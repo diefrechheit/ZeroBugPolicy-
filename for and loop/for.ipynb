{
 "cells": [
  {
   "cell_type": "code",
   "id": "initial_id",
   "metadata": {
    "collapsed": true,
    "ExecuteTime": {
     "end_time": "2025-02-23T11:07:55.350786Z",
     "start_time": "2025-02-23T11:07:55.344906Z"
    }
   },
   "source": [
    "names = [\"Artem\", \"Kirill\", \"John\", \"Denis\"]\n",
    "# Для каждого элемента в этой коллекции \n",
    "\n",
    "for name in names:\n",
    "    print(name)"
   ],
   "outputs": [
    {
     "name": "stdout",
     "output_type": "stream",
     "text": [
      "Artem\n",
      "Kirill\n",
      "John\n",
      "Denis\n"
     ]
    }
   ],
   "execution_count": 1
  },
  {
   "metadata": {
    "ExecuteTime": {
     "end_time": "2025-02-23T11:12:48.537349Z",
     "start_time": "2025-02-23T11:12:48.524326Z"
    }
   },
   "cell_type": "code",
   "source": [
    "names = [\"Artem\", \"Kirill\", \"John\", \"Denis\"]\n",
    "\n",
    "for i in names:\n",
    "    if i.startswith('J'):\n",
    "        print(i)        "
   ],
   "id": "61f1776bce92c58d",
   "outputs": [
    {
     "name": "stdout",
     "output_type": "stream",
     "text": [
      "John\n"
     ]
    }
   ],
   "execution_count": 2
  },
  {
   "metadata": {
    "ExecuteTime": {
     "end_time": "2025-02-23T11:21:53.990790Z",
     "start_time": "2025-02-23T11:21:53.984308Z"
    }
   },
   "cell_type": "code",
   "source": [
    "person = {\n",
    "    \"John\": 132,\n",
    "    \"Tom\": 167,\n",
    "    \"James\": 234\n",
    "}\n",
    "\n",
    "for i in person.values():\n",
    "    print(i)"
   ],
   "id": "9b45e3f3229eb3d4",
   "outputs": [
    {
     "name": "stdout",
     "output_type": "stream",
     "text": [
      "132\n",
      "167\n",
      "234\n"
     ]
    }
   ],
   "execution_count": 4
  },
  {
   "metadata": {
    "ExecuteTime": {
     "end_time": "2025-02-23T11:26:26.339300Z",
     "start_time": "2025-02-23T11:26:26.333743Z"
    }
   },
   "cell_type": "code",
   "source": [
    "person = {\n",
    "    \"John\": 132,\n",
    "    \"Tom\": 167,\n",
    "    \"James\": 234\n",
    "}\n",
    "\n",
    "for i in person:\n",
    "    print(f\"{i}: {person[i]}\")"
   ],
   "id": "8d4aa1ae8f1b7bf9",
   "outputs": [
    {
     "name": "stdout",
     "output_type": "stream",
     "text": [
      "John: 132\n",
      "Tom: 167\n",
      "James: 234\n"
     ]
    }
   ],
   "execution_count": 8
  },
  {
   "metadata": {
    "ExecuteTime": {
     "end_time": "2025-02-23T11:31:18.127355Z",
     "start_time": "2025-02-23T11:31:18.120521Z"
    }
   },
   "cell_type": "code",
   "source": [
    "persons = {\n",
    "    \"John\": 132,\n",
    "    \"Tom\": 167,\n",
    "    \"James\": 234\n",
    "}\n",
    "\n",
    "for person in persons.items():\n",
    "    name, height = person\n",
    "    print(f\"Меня зовут {name}, рост у меня {height}\")\n"
   ],
   "id": "ebf3dcbe36860279",
   "outputs": [
    {
     "name": "stdout",
     "output_type": "stream",
     "text": [
      "Меня зовут John, рост у меня 132\n",
      "Меня зовут Tom, рост у меня 167\n",
      "Меня зовут James, рост у меня 234\n"
     ]
    }
   ],
   "execution_count": 12
  },
  {
   "metadata": {
    "ExecuteTime": {
     "end_time": "2025-02-23T12:01:00.850218Z",
     "start_time": "2025-02-23T12:01:00.838409Z"
    }
   },
   "cell_type": "code",
   "source": [
    "text = \"Sad vitae justo malesuada, commodo libero eu, bibendum mauris\"\n",
    "\n",
    "words = text.split()\n",
    "fin_words = []\n",
    "for word in words:\n",
    "    if \"o\" in word:\n",
    "        print(word)\n",
    "    else:\n",
    "        fin_words.append(word)\n",
    "print(fin_words)\n",
    "        "
   ],
   "id": "6784669cce70338f",
   "outputs": [
    {
     "name": "stdout",
     "output_type": "stream",
     "text": [
      "justo\n",
      "commodo\n",
      "libero\n",
      "['Sad', 'vitae', 'malesuada,', 'eu,', 'bibendum', 'mauris']\n"
     ]
    }
   ],
   "execution_count": 22
  }
 ],
 "metadata": {
  "kernelspec": {
   "display_name": "Python 3",
   "language": "python",
   "name": "python3"
  },
  "language_info": {
   "codemirror_mode": {
    "name": "ipython",
    "version": 2
   },
   "file_extension": ".py",
   "mimetype": "text/x-python",
   "name": "python",
   "nbconvert_exporter": "python",
   "pygments_lexer": "ipython2",
   "version": "2.7.6"
  }
 },
 "nbformat": 4,
 "nbformat_minor": 5
}
