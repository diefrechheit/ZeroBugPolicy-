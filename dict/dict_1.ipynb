{
 "cells": [
  {
   "cell_type": "code",
   "execution_count": null,
   "id": "initial_id",
   "metadata": {
    "collapsed": true
   },
   "outputs": [],
   "source": [
    "from operator import index\n",
    "\n",
    "colors  = ['red', \"orange\", \"yellow\", \"green\",\"blue\", \"indigo\", \"violet\"]\n",
    "\n",
    "\n",
    "for color in colors:\n",
    "    print(color)"
   ]
  },
  {
   "metadata": {
    "ExecuteTime": {
     "end_time": "2025-03-02T13:49:23.273604Z",
     "start_time": "2025-03-02T13:49:23.268877Z"
    }
   },
   "cell_type": "code",
   "source": [
    "weekday = [\"Понедельник\", \"Вторник\", \"Среда\", \"Четверг\", \"Пятница\", \"Суббота\", \"Воскресенье\"]\n",
    "\n",
    "for weekday in weekday:\n",
    "    print(weekday)"
   ],
   "id": "500b586dfad0170",
   "outputs": [
    {
     "name": "stdout",
     "output_type": "stream",
     "text": [
      "Понедельник\n",
      "Вторник\n",
      "Среда\n",
      "Четверг\n",
      "Пятница\n",
      "Суббота\n",
      "Воскресение\n"
     ]
    }
   ],
   "execution_count": 1
  },
  {
   "metadata": {},
   "cell_type": "code",
   "outputs": [],
   "execution_count": null,
   "source": [
    "numbers = [1, 2,5,10,50,100,200,500,1000,2000,5000]\n",
    "\n",
    "# Не удаляйте код ниже и не редактируйте его, он нужен для проверки\n",
    "\n",
    "for number in numbers: \n",
    "  print(number)"
   ],
   "id": "12a3c5b18126529b"
  },
  {
   "metadata": {
    "ExecuteTime": {
     "end_time": "2025-03-02T13:52:27.608161Z",
     "start_time": "2025-03-02T13:52:27.604658Z"
    }
   },
   "cell_type": "code",
   "source": [
    "fruits = [\"яблоко\", \"груша\", \"ананас\", \"апельсин\", \"виноград\"]\n",
    "\n",
    "element = 1\n",
    "\n",
    "print(fruits[element])"
   ],
   "id": "f68d8cbb737d0534",
   "outputs": [
    {
     "name": "stdout",
     "output_type": "stream",
     "text": [
      "груша\n"
     ]
    }
   ],
   "execution_count": 3
  },
  {
   "metadata": {
    "ExecuteTime": {
     "end_time": "2025-03-02T13:54:01.502Z",
     "start_time": "2025-03-02T13:54:01.498106Z"
    }
   },
   "cell_type": "code",
   "source": [
    "temp = [\"+10\", \"+13\", \"+9\"]\n",
    "weather = [\"ясно\", \"дождь\", \"град\"]\n",
    "\n",
    "print(\"Понедельник\", temp[0],weather[0])\n",
    "print(\"Вторник\", temp[1], weather[1])\n",
    "print(\"Среда\", temp[2], weather[2])"
   ],
   "id": "3be4510723908abc",
   "outputs": [
    {
     "name": "stdout",
     "output_type": "stream",
     "text": [
      "Понедельник +10 ясно\n",
      "Вторник +13 дождь\n",
      "Среда +9 град\n"
     ]
    }
   ],
   "execution_count": 4
  },
  {
   "metadata": {
    "ExecuteTime": {
     "end_time": "2025-03-02T14:00:30.745372Z",
     "start_time": "2025-03-02T14:00:28.202409Z"
    }
   },
   "cell_type": "code",
   "source": [
    "items = [\n",
    "   \"палатка\", \"спички\", \"одеяло\", \"нож\", \"зефирки\", \"крючок\", \"консервы\",\n",
    "]\n",
    "\n",
    "index_1 = int(input())\n",
    "index_2 = int(input())\n",
    "\n",
    "print(items[index_1])\n",
    "print(items[index_2])"
   ],
   "id": "92e6090d2433b3ef",
   "outputs": [
    {
     "name": "stdout",
     "output_type": "stream",
     "text": [
      "одеяло нож\n"
     ]
    }
   ],
   "execution_count": 5
  },
  {
   "metadata": {
    "ExecuteTime": {
     "end_time": "2025-03-02T14:13:44.471259Z",
     "start_time": "2025-03-02T14:13:44.467258Z"
    }
   },
   "cell_type": "code",
   "source": [
    "list_1 = [\"apple\", \"banana\", \"blueberry\", \"strawberry\", \"melon\"]\n",
    "list_2 = [\"blue\", \"orange\", \"blue\", \"blue\", \"yellow\"]\n",
    "list_3 = [True, False, True, True, False, True]\n",
    "\n",
    "print(len(list_1), len(list_2), len(list_3))"
   ],
   "id": "ca283cd5f71fae52",
   "outputs": [
    {
     "name": "stdout",
     "output_type": "stream",
     "text": [
      "5 5 6\n"
     ]
    }
   ],
   "execution_count": 6
  },
  {
   "metadata": {
    "ExecuteTime": {
     "end_time": "2025-03-02T14:14:47.708467Z",
     "start_time": "2025-03-02T14:14:47.704285Z"
    }
   },
   "cell_type": "code",
   "source": [
    "fruits = [\"banana\", \"orange\", \"apple\"]\n",
    "\n",
    "print(f\"В списке элементов: {len(fruits)}\")"
   ],
   "id": "362fa3eb4aa68335",
   "outputs": [
    {
     "name": "stdout",
     "output_type": "stream",
     "text": [
      "В списке элементов: 3 \n"
     ]
    }
   ],
   "execution_count": 8
  },
  {
   "metadata": {
    "ExecuteTime": {
     "end_time": "2025-03-02T14:16:50.443041Z",
     "start_time": "2025-03-02T14:16:50.439772Z"
    }
   },
   "cell_type": "code",
   "source": [
    "fruits = [\"яблоко\", \"груша\"]\n",
    "\n",
    "fruits.extend([\"лимон\", \"банан\", \"киви\"])\n",
    "\n",
    "\n",
    "# Не удаляйте код ниже и не редактируйте его, он нужен для проверки\n",
    "\n",
    "for fruit in fruits:\n",
    "  print(fruit)"
   ],
   "id": "b09080e98c9de328",
   "outputs": [
    {
     "name": "stdout",
     "output_type": "stream",
     "text": [
      "яблоко\n",
      "груша\n",
      "лимон\n",
      "банан\n",
      "киви\n"
     ]
    }
   ],
   "execution_count": 10
  },
  {
   "metadata": {
    "ExecuteTime": {
     "end_time": "2025-03-02T14:46:42.278105Z",
     "start_time": "2025-03-02T14:46:38.612410Z"
    }
   },
   "cell_type": "code",
   "source": [
    "symbols = [\"m\", \"o\", \"n\"]\n",
    "\n",
    "symbol_1 = input()\n",
    "symbol_2 = input()\n",
    "symbol_3 = input()\n",
    "\n",
    "symbols.extend([symbol_1, symbol_2, symbol_3])\n",
    "\n",
    "# Не удаляйте код ниже, он нужен для проверки\n",
    "\n",
    "print(\"\".join(symbols))"
   ],
   "id": "8c0cb10239d3683a",
   "outputs": [
    {
     "name": "stdout",
     "output_type": "stream",
     "text": [
      "mon234\n"
     ]
    }
   ],
   "execution_count": 35
  },
  {
   "metadata": {
    "ExecuteTime": {
     "end_time": "2025-03-02T14:46:54.563766Z",
     "start_time": "2025-03-02T14:46:47.455835Z"
    }
   },
   "cell_type": "code",
   "source": [
    "start = input(\"Добрый день, хотели бы вы что нибудь заказать? YES/NO\")\n",
    "drinks = [\"Пиво\", \"Чай\", \"Кофе\", \"Кола\"]\n",
    "if start == \"Yes\":\n",
    "    print(f\"Выберите что нибудь из нашего меню: {drinks}\")\n",
    "    answer = input(\"Введите название напитка который вы выбрали\")\n",
    "    if answer in drinks:\n",
    "        print(f\"Спасибо за заказ, ваш {answer}, будет в течении 5 минут!\")\n",
    "    else:\n",
    "        print(\"Извините, такого напитка нет в нашем меню\")  \n",
    "else:\n",
    "    print(\"Надеюсь мы скоро увидимся, спасибо!\")\n",
    "            \n",
    "    "
   ],
   "id": "6ccae118f3e0ac",
   "outputs": [
    {
     "name": "stdout",
     "output_type": "stream",
     "text": [
      "Выберите что нибудь из нашего меню: ['Пиво', 'Чай', 'Кофе', 'Кола']\n",
      "Спасибо за заказ, ваш Кофе, будет в течении 5 минут!\n"
     ]
    }
   ],
   "execution_count": 36
  },
  {
   "metadata": {
    "ExecuteTime": {
     "end_time": "2025-03-02T14:59:12.939764Z",
     "start_time": "2025-03-02T14:59:12.936130Z"
    }
   },
   "cell_type": "code",
   "source": [
    "numbers = [\"нула\", \"една\", \"две\", \"три\", \"четири\", \"пет\", \"шест\"]\n",
    "numbers[0] = \"ноль\"\n",
    "numbers[1] = \"одна\"\n",
    "numbers[2] = \"две\"\n",
    "numbers[3] = \"три\"\n",
    "numbers[4] = \"четыре\"\n",
    "numbers[5] = \"пять\"\n",
    "numbers[6] = \"шесть\"\n",
    "# Не удаляйте код ниже и не редактируйте его, он нужен для проверки\n",
    "\n",
    "for number in numbers:\n",
    "  print(number)"
   ],
   "id": "cded75eeeb3edb5",
   "outputs": [
    {
     "name": "stdout",
     "output_type": "stream",
     "text": [
      "ноль\n",
      "один\n",
      "два\n",
      "три\n",
      "четыре\n",
      "пять\n",
      "шесть\n"
     ]
    }
   ],
   "execution_count": 42
  },
  {
   "metadata": {},
   "cell_type": "code",
   "outputs": [],
   "execution_count": null,
   "source": [
    "weekdays = [\n",
    "\"pirmdiena\", \n",
    "\"otrdiena\", \n",
    "\"trešdiena\",\n",
    "\"ceturtdiena\", \n",
    "\"piektdiena\", \n",
    "\"sestdiena\", \n",
    "\"svētdiena\"]\n",
    "\n",
    "\n",
    "workdays = weekday[0:6]\n",
    "\n",
    "\n",
    "# Не удаляйте код ниже, он нужен для проверки\n",
    "\n",
    "for workday in workdays:\n",
    "  print(workday)"
   ],
   "id": "33071e41eef9597b"
  },
  {
   "metadata": {
    "ExecuteTime": {
     "end_time": "2025-03-02T15:19:53.180887Z",
     "start_time": "2025-03-02T15:19:51.978425Z"
    }
   },
   "cell_type": "code",
   "source": [
    "timespans = [\"7-8\", \"8-9\", \"9-10\", \"10-11\", \"11-12\", \"12-13\" ]\n",
    "\n",
    "\n",
    "n = int(input())\n",
    "\n",
    "result = n - 2\n",
    "\n",
    "print(timespans[result:n])\n"
   ],
   "id": "85097442718be8db",
   "outputs": [
    {
     "name": "stdout",
     "output_type": "stream",
     "text": [
      "8-9\n",
      "9-10\n"
     ]
    }
   ],
   "execution_count": 51
  },
  {
   "metadata": {
    "ExecuteTime": {
     "end_time": "2025-03-02T15:40:10.139687Z",
     "start_time": "2025-03-02T15:40:08.361974Z"
    }
   },
   "cell_type": "code",
   "source": [
    "\n",
    "alphabet = [\n",
    "  'a', 'b', 'c', 'd', 'e', 'f', 'g', \n",
    "  'h', 'i', 'j', 'k', 'l', 'm', 'n', \n",
    "  'o', 'p', 'q', 'r', 's', 't', 'u', \n",
    "  'v', 'w', 'x', 'y', 'z', '-'\n",
    "]\n",
    "\n",
    "position = int(input())\n",
    "result_2 = position + 2\n",
    "\n",
    "\n",
    "print(alphabet[position:result_2])"
   ],
   "id": "70db39ce0e5eff2a",
   "outputs": [
    {
     "name": "stdout",
     "output_type": "stream",
     "text": [
      "['b', 'c']\n"
     ]
    }
   ],
   "execution_count": 59
  },
  {
   "metadata": {},
   "cell_type": "code",
   "outputs": [],
   "execution_count": null,
   "source": [
    "alphabet = [\n",
    "  'a', 'b', 'c', 'd', 'e', 'f', 'g', \n",
    "  'h', 'i', 'j', 'k', 'l', 'm', 'n', \n",
    "  'o', 'p', 'q', 'r', 's', 't', 'u', \n",
    "  'v', 'w', 'x', 'y', 'z'\n",
    "]\n",
    "\n",
    "num = int(input())\n",
    "\n",
    "print(alphabet[num])\n"
   ],
   "id": "fd6ae5db8ed741c3"
  },
  {
   "metadata": {
    "ExecuteTime": {
     "end_time": "2025-03-02T16:05:25.240718Z",
     "start_time": "2025-03-02T16:05:23.912134Z"
    }
   },
   "cell_type": "code",
   "source": [
    "letters_1 = [\"A\", \"B\", \"C\", \"D\"]\n",
    "letters_2 = [\"E\", \"F\", \"G\", \"K\", \"L\", \"M\", \"N\"]\n",
    "\n",
    "count = int(input())\n",
    "\n",
    "letters_1.extend(letters_2[:count])\n",
    "\n",
    "# Не удаляйте код ниже, он нужен для проверки\n",
    "\n",
    "print(\"\".join(letters_1))"
   ],
   "id": "421b3f06396ff192",
   "outputs": [
    {
     "name": "stdout",
     "output_type": "stream",
     "text": [
      "ABCDE\n"
     ]
    }
   ],
   "execution_count": 72
  }
 ],
 "metadata": {
  "kernelspec": {
   "display_name": "Python 3",
   "language": "python",
   "name": "python3"
  },
  "language_info": {
   "codemirror_mode": {
    "name": "ipython",
    "version": 2
   },
   "file_extension": ".py",
   "mimetype": "text/x-python",
   "name": "python",
   "nbconvert_exporter": "python",
   "pygments_lexer": "ipython2",
   "version": "2.7.6"
  }
 },
 "nbformat": 4,
 "nbformat_minor": 5
}
