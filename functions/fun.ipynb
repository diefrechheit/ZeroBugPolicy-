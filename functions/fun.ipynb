{
 "cells": [
  {
   "cell_type": "code",
   "id": "initial_id",
   "metadata": {
    "collapsed": true,
    "ExecuteTime": {
     "end_time": "2025-02-23T15:23:29.174851Z",
     "start_time": "2025-02-23T15:23:29.163727Z"
    }
   },
   "source": [
    "a = 27\n",
    "b = 2\n",
    "c = 4\n",
    "d = 5\n",
    "y = 0\n",
    "main_number = 47\n",
    "def calc(numb):\n",
    "    if y == 0:\n",
    "        print(numb)\n",
    "    else:\n",
    "        print(numb + main_number)\n",
    "calc(a)\n",
    "calc(b)\n",
    "calc(c)\n",
    "calc(d)\n"
   ],
   "outputs": [
    {
     "name": "stdout",
     "output_type": "stream",
     "text": [
      "27\n",
      "2\n",
      "4\n",
      "5\n"
     ]
    }
   ],
   "execution_count": 3
  },
  {
   "metadata": {},
   "cell_type": "code",
   "outputs": [],
   "execution_count": null,
   "source": [
    "a = 1\n",
    "b = 5\n",
    "c = 4\n",
    "d = 7\n",
    "y = 0\n",
    "if y == 0:\n",
    "    print(a)\n",
    "else:\n",
    "    print()"
   ],
   "id": "7b61832cd5bcad9"
  }
 ],
 "metadata": {
  "kernelspec": {
   "display_name": "Python 3",
   "language": "python",
   "name": "python3"
  },
  "language_info": {
   "codemirror_mode": {
    "name": "ipython",
    "version": 2
   },
   "file_extension": ".py",
   "mimetype": "text/x-python",
   "name": "python",
   "nbconvert_exporter": "python",
   "pygments_lexer": "ipython2",
   "version": "2.7.6"
  }
 },
 "nbformat": 4,
 "nbformat_minor": 5
}
